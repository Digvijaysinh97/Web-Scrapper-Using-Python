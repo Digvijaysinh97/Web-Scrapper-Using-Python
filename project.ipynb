{
 "cells": [
  {
   "cell_type": "code",
   "execution_count": 63,
   "metadata": {},
   "outputs": [],
   "source": [
    "# import libraries \n",
    "\n",
    "from bs4 import BeautifulSoup\n",
    "import requests\n",
    "import time\n",
    "import datetime\n",
    "\n",
    "import smtplib"
   ]
  },
  {
   "cell_type": "code",
   "execution_count": 64,
   "metadata": {},
   "outputs": [],
   "source": [
    "#connecting to a website\n",
    "\n",
    "url = 'https://www.amazon.in/PS4-God-of-War/dp/B07YQ73Y8T/ref=sr_1_2?keywords=ps4%2Bgame&qid=1642854585&sr=8-2'\n",
    "header = {\"User-Agent\": \"Mozilla/5.0 (Macintosh; Intel Mac OS X 10_15_7) AppleWebKit/537.36 (KHTML, like Gecko) Chrome/97.0.4692.99 Safari/537.36\"}"
   ]
  },
  {
   "cell_type": "code",
   "execution_count": 66,
   "metadata": {},
   "outputs": [
    {
     "name": "stdout",
     "output_type": "stream",
     "text": [
      "\n",
      "            Sony PS4 God of War (Playstation 4)\n",
      "           \n",
      "\n",
      "                              ₹816.00\n",
      "                             \n"
     ]
    }
   ],
   "source": [
    "#getting the data from the website\n",
    "page = requests.get(url, headers=header)\n",
    "\n",
    "s1 = BeautifulSoup(page.content,'html.parser')\n",
    "s2 = BeautifulSoup(s1.prettify(),'html.parser')\n",
    "\n",
    "title = s2.find('span','a-size-large product-title-word-break').get_text()\n",
    "print(title)\n",
    "price = s2.find('span', 'a-offscreen').get_text()\n",
    "print(price)"
   ]
  },
  {
   "cell_type": "code",
   "execution_count": 67,
   "metadata": {},
   "outputs": [
    {
     "name": "stdout",
     "output_type": "stream",
     "text": [
      "Sony PS4 God of War (Playstation 4) 816.00\n"
     ]
    }
   ],
   "source": [
    "#removing the rupee sign from the price\n",
    "price = price.strip()[1:]\n",
    "title = title.strip()\n",
    "\n",
    "print(title,price)"
   ]
  },
  {
   "cell_type": "code",
   "execution_count": 69,
   "metadata": {},
   "outputs": [
    {
     "name": "stdout",
     "output_type": "stream",
     "text": [
      "2022-01-22\n"
     ]
    }
   ],
   "source": [
    "today = datetime.date.today()\n",
    "print(today)"
   ]
  },
  {
   "cell_type": "code",
   "execution_count": 71,
   "metadata": {},
   "outputs": [],
   "source": [
    "#saving the data from the amazon website into a csv file\n",
    "import csv \n",
    "\n",
    "h1 = ['Title','Price','Date']\n",
    "data = [title,price,today]\n",
    "\n",
    "with open('Scrapper_file.csv','w',newline='',encoding='UTF8') as f:\n",
    "    writer = csv.writer(f)\n",
    "    writer.writerow(h1)\n",
    "    writer.writerow(data)"
   ]
  },
  {
   "cell_type": "code",
   "execution_count": 81,
   "metadata": {},
   "outputs": [
    {
     "data": {
      "text/html": [
       "<div>\n",
       "<style scoped>\n",
       "    .dataframe tbody tr th:only-of-type {\n",
       "        vertical-align: middle;\n",
       "    }\n",
       "\n",
       "    .dataframe tbody tr th {\n",
       "        vertical-align: top;\n",
       "    }\n",
       "\n",
       "    .dataframe thead th {\n",
       "        text-align: right;\n",
       "    }\n",
       "</style>\n",
       "<table border=\"1\" class=\"dataframe\">\n",
       "  <thead>\n",
       "    <tr style=\"text-align: right;\">\n",
       "      <th></th>\n",
       "      <th>Title</th>\n",
       "      <th>Price</th>\n",
       "      <th>Date</th>\n",
       "    </tr>\n",
       "  </thead>\n",
       "  <tbody>\n",
       "    <tr>\n",
       "      <th>0</th>\n",
       "      <td>Sony PS4 God of War (Playstation 4)</td>\n",
       "      <td>816.0</td>\n",
       "      <td>2022-01-22</td>\n",
       "    </tr>\n",
       "    <tr>\n",
       "      <th>1</th>\n",
       "      <td>Sony PS4 God of War (Playstation 4)</td>\n",
       "      <td>816.0</td>\n",
       "      <td>2022-01-22</td>\n",
       "    </tr>\n",
       "    <tr>\n",
       "      <th>2</th>\n",
       "      <td>Sony PS4 God of War (Playstation 4)</td>\n",
       "      <td>816.0</td>\n",
       "      <td>2022-01-22</td>\n",
       "    </tr>\n",
       "    <tr>\n",
       "      <th>3</th>\n",
       "      <td>Sony PS4 God of War (Playstation 4)</td>\n",
       "      <td>816.0</td>\n",
       "      <td>2022-01-22</td>\n",
       "    </tr>\n",
       "    <tr>\n",
       "      <th>4</th>\n",
       "      <td>Sony PS4 God of War (Playstation 4)</td>\n",
       "      <td>816.0</td>\n",
       "      <td>2022-01-22</td>\n",
       "    </tr>\n",
       "    <tr>\n",
       "      <th>5</th>\n",
       "      <td>Sony PS4 God of War (Playstation 4)</td>\n",
       "      <td>816.0</td>\n",
       "      <td>2022-01-22</td>\n",
       "    </tr>\n",
       "    <tr>\n",
       "      <th>6</th>\n",
       "      <td>Sony PS4 God of War (Playstation 4)</td>\n",
       "      <td>816.0</td>\n",
       "      <td>2022-01-22</td>\n",
       "    </tr>\n",
       "    <tr>\n",
       "      <th>7</th>\n",
       "      <td>Sony PS4 God of War (Playstation 4)</td>\n",
       "      <td>816.0</td>\n",
       "      <td>2022-01-22</td>\n",
       "    </tr>\n",
       "    <tr>\n",
       "      <th>8</th>\n",
       "      <td>Sony PS4 God of War (Playstation 4)</td>\n",
       "      <td>816.0</td>\n",
       "      <td>2022-01-22</td>\n",
       "    </tr>\n",
       "  </tbody>\n",
       "</table>\n",
       "</div>"
      ],
      "text/plain": [
       "                                 Title  Price        Date\n",
       "0  Sony PS4 God of War (Playstation 4)  816.0  2022-01-22\n",
       "1  Sony PS4 God of War (Playstation 4)  816.0  2022-01-22\n",
       "2  Sony PS4 God of War (Playstation 4)  816.0  2022-01-22\n",
       "3  Sony PS4 God of War (Playstation 4)  816.0  2022-01-22\n",
       "4  Sony PS4 God of War (Playstation 4)  816.0  2022-01-22\n",
       "5  Sony PS4 God of War (Playstation 4)  816.0  2022-01-22\n",
       "6  Sony PS4 God of War (Playstation 4)  816.0  2022-01-22\n",
       "7  Sony PS4 God of War (Playstation 4)  816.0  2022-01-22\n",
       "8  Sony PS4 God of War (Playstation 4)  816.0  2022-01-22"
      ]
     },
     "execution_count": 81,
     "metadata": {},
     "output_type": "execute_result"
    }
   ],
   "source": [
    "import pandas\n",
    "\n",
    "df = pd.read_csv('/Users/digi/Desktop/Data-Analytics/web-scrapper/Scrapper_file.csv')\n",
    "\n",
    "df.head(10)"
   ]
  },
  {
   "cell_type": "code",
   "execution_count": 74,
   "metadata": {},
   "outputs": [],
   "source": [
    "#checking if the apending works\n",
    "\n",
    "with open('Scrapper_file.csv','a+',newline='',encoding='UTF8') as f:\n",
    "        writer = csv.writer(f)\n",
    "        writer.writerow(data)"
   ]
  },
  {
   "cell_type": "code",
   "execution_count": 76,
   "metadata": {},
   "outputs": [],
   "source": [
    "#automating the process\n",
    "\n",
    "def automate():\n",
    "    url = 'https://www.amazon.in/PS4-God-of-War/dp/B07YQ73Y8T/ref=sr_1_2?keywords=ps4%2Bgame&qid=1642854585&sr=8-2'\n",
    "    header = {\"User-Agent\": \"Mozilla/5.0 (Macintosh; Intel Mac OS X 10_15_7) AppleWebKit/537.36 (KHTML, like Gecko) Chrome/97.0.4692.99 Safari/537.36\"}\n",
    "\n",
    "    page = requests.get(url, headers=header)\n",
    "\n",
    "    s1 = BeautifulSoup(page.content,'html.parser')\n",
    "    s2 = BeautifulSoup(s1.prettify(),'html.parser')\n",
    "\n",
    "    title = s2.find('span','a-size-large product-title-word-break').get_text()\n",
    "    price = s2.find('span', 'a-offscreen').get_text()\n",
    "    price = price.strip()[1:]\n",
    "    title = title.strip()\n",
    "    \n",
    "    import datetime\n",
    "    today = datetime.date.today()\n",
    "\n",
    "    import csv \n",
    "\n",
    "    h1 = ['Title','Price','Date']\n",
    "    data = [title,price,today]\n",
    "\n",
    "    with open('Scrapper_file.csv','a+',newline='',encoding='UTF8') as f:\n",
    "        writer = csv.writer(f)\n",
    "        writer.writerow(data)\n",
    "    if (price < 900):\n",
    "        send_mail()\n",
    "\n",
    "\n",
    "\n",
    "    "
   ]
  },
  {
   "cell_type": "code",
   "execution_count": null,
   "metadata": {},
   "outputs": [],
   "source": [
    "#loop that keeps the process running after a defined interval\n",
    "#note here time.sleep() is in seconds\n",
    "while(True):\n",
    "    automate()\n",
    "    time.sleep(1) #unit is seconds"
   ]
  },
  {
   "cell_type": "code",
   "execution_count": 90,
   "metadata": {},
   "outputs": [],
   "source": [
    "#sending a mail if the product gets available or there is a price drop\n",
    "\n",
    "def send_mail():\n",
    "    server = smtplib.SMTP_SSL('smtp.gmail.com',465)\n",
    "    server.ehlo()\n",
    "    #server.starttls()\n",
    "    server.ehlo()\n",
    "    server.login('enter email','@@@@@')\n",
    "    \n",
    "    subject = \"Price Drop Alert!\"\n",
    "    body = \"God of War-PS4 just dropped in price might want to have a look\"\n",
    "   \n",
    "    msg = f\"Subject: {subject}\\n\\n{body}\"\n",
    "    \n",
    "    server.sendmail(\n",
    "        'enter email',\n",
    "        msg\n",
    "     \n",
    "    )"
   ]
  },
  {
   "cell_type": "code",
   "execution_count": null,
   "metadata": {},
   "outputs": [],
   "source": []
  }
 ],
 "metadata": {
  "interpreter": {
   "hash": "64ea5eee241f866cfe6f15e572bf6ee48d0b4fb920c4c4e708b14cc5d0eacea1"
  },
  "kernelspec": {
   "display_name": "Python 3.9.7 64-bit ('base': conda)",
   "language": "python",
   "name": "python3"
  },
  "language_info": {
   "codemirror_mode": {
    "name": "ipython",
    "version": 3
   },
   "file_extension": ".py",
   "mimetype": "text/x-python",
   "name": "python",
   "nbconvert_exporter": "python",
   "pygments_lexer": "ipython3",
   "version": "3.9.7"
  },
  "orig_nbformat": 4
 },
 "nbformat": 4,
 "nbformat_minor": 2
}
